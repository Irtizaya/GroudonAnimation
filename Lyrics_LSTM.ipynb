{
  "nbformat": 4,
  "nbformat_minor": 0,
  "metadata": {
    "colab": {
      "name": "Lyrics_LSTM.ipynb",
      "provenance": [],
      "collapsed_sections": [],
      "include_colab_link": true
    },
    "kernelspec": {
      "name": "python3",
      "display_name": "Python 3"
    },
    "accelerator": "GPU"
  },
  "cells": [
    {
      "cell_type": "markdown",
      "metadata": {
        "id": "view-in-github",
        "colab_type": "text"
      },
      "source": [
        "<a href=\"https://colab.research.google.com/github/Irtizaya/GroudonAnimation/blob/master/Lyrics_LSTM.ipynb\" target=\"_parent\"><img src=\"https://colab.research.google.com/assets/colab-badge.svg\" alt=\"Open In Colab\"/></a>"
      ]
    },
    {
      "cell_type": "code",
      "metadata": {
        "colab": {
          "base_uri": "https://localhost:8080/"
        },
        "id": "_BHs-fBQpt7W",
        "outputId": "666826ed-cd44-419b-829b-55d9b9281aff"
      },
      "source": [
        "!pip install tensorflow-gpu\r\n",
        "import tensorflow as tf\r\n",
        "print(tf.__version__)"
      ],
      "execution_count": null,
      "outputs": [
        {
          "output_type": "stream",
          "text": [
            "Collecting tensorflow-gpu\n",
            "\u001b[?25l  Downloading https://files.pythonhosted.org/packages/f1/aa/ae64be5acaac9055329289e6bfd54c1efa28bfe792f9021cea495fe2b89d/tensorflow_gpu-2.4.0-cp36-cp36m-manylinux2010_x86_64.whl (394.7MB)\n",
            "\u001b[K     |████████████████████████████████| 394.7MB 43kB/s \n",
            "\u001b[?25hRequirement already satisfied: absl-py~=0.10 in /usr/local/lib/python3.6/dist-packages (from tensorflow-gpu) (0.10.0)\n",
            "Requirement already satisfied: opt-einsum~=3.3.0 in /usr/local/lib/python3.6/dist-packages (from tensorflow-gpu) (3.3.0)\n",
            "Requirement already satisfied: tensorboard~=2.4 in /usr/local/lib/python3.6/dist-packages (from tensorflow-gpu) (2.4.0)\n",
            "Requirement already satisfied: protobuf>=3.9.2 in /usr/local/lib/python3.6/dist-packages (from tensorflow-gpu) (3.12.4)\n",
            "Requirement already satisfied: tensorflow-estimator<2.5.0,>=2.4.0rc0 in /usr/local/lib/python3.6/dist-packages (from tensorflow-gpu) (2.4.0)\n",
            "Requirement already satisfied: numpy~=1.19.2 in /usr/local/lib/python3.6/dist-packages (from tensorflow-gpu) (1.19.4)\n",
            "Requirement already satisfied: wrapt~=1.12.1 in /usr/local/lib/python3.6/dist-packages (from tensorflow-gpu) (1.12.1)\n",
            "Requirement already satisfied: gast==0.3.3 in /usr/local/lib/python3.6/dist-packages (from tensorflow-gpu) (0.3.3)\n",
            "Requirement already satisfied: astunparse~=1.6.3 in /usr/local/lib/python3.6/dist-packages (from tensorflow-gpu) (1.6.3)\n",
            "Requirement already satisfied: flatbuffers~=1.12.0 in /usr/local/lib/python3.6/dist-packages (from tensorflow-gpu) (1.12)\n",
            "Requirement already satisfied: six~=1.15.0 in /usr/local/lib/python3.6/dist-packages (from tensorflow-gpu) (1.15.0)\n",
            "Requirement already satisfied: termcolor~=1.1.0 in /usr/local/lib/python3.6/dist-packages (from tensorflow-gpu) (1.1.0)\n",
            "Requirement already satisfied: h5py~=2.10.0 in /usr/local/lib/python3.6/dist-packages (from tensorflow-gpu) (2.10.0)\n",
            "Requirement already satisfied: wheel~=0.35 in /usr/local/lib/python3.6/dist-packages (from tensorflow-gpu) (0.36.2)\n",
            "Requirement already satisfied: google-pasta~=0.2 in /usr/local/lib/python3.6/dist-packages (from tensorflow-gpu) (0.2.0)\n",
            "Requirement already satisfied: keras-preprocessing~=1.1.2 in /usr/local/lib/python3.6/dist-packages (from tensorflow-gpu) (1.1.2)\n",
            "Requirement already satisfied: grpcio~=1.32.0 in /usr/local/lib/python3.6/dist-packages (from tensorflow-gpu) (1.32.0)\n",
            "Requirement already satisfied: typing-extensions~=3.7.4 in /usr/local/lib/python3.6/dist-packages (from tensorflow-gpu) (3.7.4.3)\n",
            "Requirement already satisfied: werkzeug>=0.11.15 in /usr/local/lib/python3.6/dist-packages (from tensorboard~=2.4->tensorflow-gpu) (1.0.1)\n",
            "Requirement already satisfied: google-auth-oauthlib<0.5,>=0.4.1 in /usr/local/lib/python3.6/dist-packages (from tensorboard~=2.4->tensorflow-gpu) (0.4.2)\n",
            "Requirement already satisfied: tensorboard-plugin-wit>=1.6.0 in /usr/local/lib/python3.6/dist-packages (from tensorboard~=2.4->tensorflow-gpu) (1.7.0)\n",
            "Requirement already satisfied: requests<3,>=2.21.0 in /usr/local/lib/python3.6/dist-packages (from tensorboard~=2.4->tensorflow-gpu) (2.23.0)\n",
            "Requirement already satisfied: setuptools>=41.0.0 in /usr/local/lib/python3.6/dist-packages (from tensorboard~=2.4->tensorflow-gpu) (50.3.2)\n",
            "Requirement already satisfied: markdown>=2.6.8 in /usr/local/lib/python3.6/dist-packages (from tensorboard~=2.4->tensorflow-gpu) (3.3.3)\n",
            "Requirement already satisfied: google-auth<2,>=1.6.3 in /usr/local/lib/python3.6/dist-packages (from tensorboard~=2.4->tensorflow-gpu) (1.17.2)\n",
            "Requirement already satisfied: requests-oauthlib>=0.7.0 in /usr/local/lib/python3.6/dist-packages (from google-auth-oauthlib<0.5,>=0.4.1->tensorboard~=2.4->tensorflow-gpu) (1.3.0)\n",
            "Requirement already satisfied: chardet<4,>=3.0.2 in /usr/local/lib/python3.6/dist-packages (from requests<3,>=2.21.0->tensorboard~=2.4->tensorflow-gpu) (3.0.4)\n",
            "Requirement already satisfied: urllib3!=1.25.0,!=1.25.1,<1.26,>=1.21.1 in /usr/local/lib/python3.6/dist-packages (from requests<3,>=2.21.0->tensorboard~=2.4->tensorflow-gpu) (1.24.3)\n",
            "Requirement already satisfied: certifi>=2017.4.17 in /usr/local/lib/python3.6/dist-packages (from requests<3,>=2.21.0->tensorboard~=2.4->tensorflow-gpu) (2020.12.5)\n",
            "Requirement already satisfied: idna<3,>=2.5 in /usr/local/lib/python3.6/dist-packages (from requests<3,>=2.21.0->tensorboard~=2.4->tensorflow-gpu) (2.10)\n",
            "Requirement already satisfied: importlib-metadata; python_version < \"3.8\" in /usr/local/lib/python3.6/dist-packages (from markdown>=2.6.8->tensorboard~=2.4->tensorflow-gpu) (3.3.0)\n",
            "Requirement already satisfied: rsa<5,>=3.1.4; python_version >= \"3\" in /usr/local/lib/python3.6/dist-packages (from google-auth<2,>=1.6.3->tensorboard~=2.4->tensorflow-gpu) (4.6)\n",
            "Requirement already satisfied: pyasn1-modules>=0.2.1 in /usr/local/lib/python3.6/dist-packages (from google-auth<2,>=1.6.3->tensorboard~=2.4->tensorflow-gpu) (0.2.8)\n",
            "Requirement already satisfied: cachetools<5.0,>=2.0.0 in /usr/local/lib/python3.6/dist-packages (from google-auth<2,>=1.6.3->tensorboard~=2.4->tensorflow-gpu) (4.2.0)\n",
            "Requirement already satisfied: oauthlib>=3.0.0 in /usr/local/lib/python3.6/dist-packages (from requests-oauthlib>=0.7.0->google-auth-oauthlib<0.5,>=0.4.1->tensorboard~=2.4->tensorflow-gpu) (3.1.0)\n",
            "Requirement already satisfied: zipp>=0.5 in /usr/local/lib/python3.6/dist-packages (from importlib-metadata; python_version < \"3.8\"->markdown>=2.6.8->tensorboard~=2.4->tensorflow-gpu) (3.4.0)\n",
            "Requirement already satisfied: pyasn1>=0.1.3 in /usr/local/lib/python3.6/dist-packages (from rsa<5,>=3.1.4; python_version >= \"3\"->google-auth<2,>=1.6.3->tensorboard~=2.4->tensorflow-gpu) (0.4.8)\n",
            "Installing collected packages: tensorflow-gpu\n",
            "Successfully installed tensorflow-gpu-2.4.0\n",
            "2.4.0\n"
          ],
          "name": "stdout"
        }
      ]
    },
    {
      "cell_type": "code",
      "metadata": {
        "id": "jIi0G9GbIyFi"
      },
      "source": [
        ""
      ],
      "execution_count": null,
      "outputs": []
    },
    {
      "cell_type": "markdown",
      "metadata": {
        "id": "FkH8YToJqxi1"
      },
      "source": [
        "## Necessary Libraries"
      ]
    },
    {
      "cell_type": "code",
      "metadata": {
        "id": "DcttHUrap5Hz"
      },
      "source": [
        "import tensorflow as tf\r\n",
        "from google.colab import drive\r\n",
        "import tensorflow.keras.utils as ku\r\n",
        "from tensorflow.keras.preprocessing.sequence import pad_sequences\r\n",
        "from tensorflow.keras.preprocessing.text import Tokenizer\r\n",
        "from tensorflow.keras.layers import Embedding, Dense, LSTM, Bidirectional, Dropout\r\n",
        "from tensorflow.keras.models import Sequential\r\n",
        "import numpy as np\r\n",
        "import pandas as pd\r\n",
        "#left out Adam, regularizers"
      ],
      "execution_count": null,
      "outputs": []
    },
    {
      "cell_type": "markdown",
      "metadata": {
        "id": "loZui6WEqvzl"
      },
      "source": [
        "## Loading Lyrics"
      ]
    },
    {
      "cell_type": "code",
      "metadata": {
        "colab": {
          "base_uri": "https://localhost:8080/"
        },
        "id": "j1X0db8NtsHT",
        "outputId": "bd6c2425-c052-419b-ca34-48c97892c1fb"
      },
      "source": [
        "drive.mount('/content/drive')\r\n",
        "path = \"/content/drive/My Drive/\" + \"DL-NLP/Data/\"\r\n",
        "lyrics = open(path + \"bruno-mars.txt\").read() "
      ],
      "execution_count": null,
      "outputs": [
        {
          "output_type": "stream",
          "text": [
            "Mounted at /content/drive\n"
          ],
          "name": "stdout"
        }
      ]
    },
    {
      "cell_type": "markdown",
      "metadata": {
        "id": "BFS46RpLvXra"
      },
      "source": [
        "# Stopwords\r\n",
        "The lyrics files contain certain \r\n",
        "\r\n",
        "*   The lyrics files contain certain stopwords which aren't common to all e.g. Chorus.\r\n",
        "*   These have to be checked manually for each file and dealt with."
      ]
    },
    {
      "cell_type": "code",
      "metadata": {
        "id": "WdoVG82nxN4J"
      },
      "source": [
        "stopWords = [\"(\",\")\",\"[\",\"]\",\"/\",\"\\\\\",\".\",\",\",\":\",'\"']\r\n",
        "removeWords = [\"[Chorus:]\", \"CHORUS\", \"[Chorus]\", \"Chorus:\"]"
      ],
      "execution_count": null,
      "outputs": []
    },
    {
      "cell_type": "markdown",
      "metadata": {
        "id": "QxZsTReTzGFn"
      },
      "source": [
        "## Building a corpus from lyrics"
      ]
    },
    {
      "cell_type": "code",
      "metadata": {
        "colab": {
          "base_uri": "https://localhost:8080/"
        },
        "id": "2Sn5T9r2zemI",
        "outputId": "0c2879a0-7095-4274-ab9d-ec1d99e67183"
      },
      "source": [
        "corpus = lyrics.lower().split(\"\\n\")\r\n",
        "corpus[0:10]"
      ],
      "execution_count": null,
      "outputs": [
        {
          "output_type": "execute_result",
          "data": {
            "text/plain": [
              "['now greetings to the world! standing at this liquor store,',\n",
              " 'whiskey coming through my pores,',\n",
              " 'feeling like i run this whole block.',\n",
              " 'lotto tickets cheap beer',\n",
              " \"that's why you can catch me here,\",\n",
              " \"tryna scratch my way up to the top. 'cause my job got me going nowhere,\",\n",
              " \"so i ain't got a thing to lose.\",\n",
              " \"take me to a place where i don't care,\",\n",
              " \"this is me and my liquor store blues. i'll take one shot for my pain,\",\n",
              " 'one drag for my sorrow.']"
            ]
          },
          "metadata": {
            "tags": []
          },
          "execution_count": 4
        }
      ]
    },
    {
      "cell_type": "markdown",
      "metadata": {
        "id": "AzjqYgVL0Kjt"
      },
      "source": [
        "## Replacing Stopwords and removing certain words"
      ]
    },
    {
      "cell_type": "code",
      "metadata": {
        "id": "E44tGGS5zqok"
      },
      "source": [
        "for i in range(len(stopWords)):\r\n",
        "  corpus = [line.replace(stopWords[i], \"\") for line in corpus]\r\n",
        "\r\n",
        "for j in range(len(removeWords)):\r\n",
        "  corpus = [line.replace(removeWords[j], \"\") for line in corpus]"
      ],
      "execution_count": null,
      "outputs": []
    },
    {
      "cell_type": "markdown",
      "metadata": {
        "id": "vNRgBfcG1Mlx"
      },
      "source": [
        "# Removing any leading or trailing characters and any empty elements."
      ]
    },
    {
      "cell_type": "code",
      "metadata": {
        "colab": {
          "base_uri": "https://localhost:8080/"
        },
        "id": "XDyMyMiT1nZM",
        "outputId": "57572081-2470-4956-e59a-fa493ea454d3"
      },
      "source": [
        "corpus = [word.strip() for word in corpus if word.strip()!=\"\"]\r\n",
        "print(\"Length of corpus: \", len(corpus))"
      ],
      "execution_count": null,
      "outputs": [
        {
          "output_type": "stream",
          "text": [
            "Length of corpus:  3270\n"
          ],
          "name": "stdout"
        }
      ]
    },
    {
      "cell_type": "markdown",
      "metadata": {
        "id": "aJ_whHtF2R5r"
      },
      "source": [
        "# Using the Tokenizer\r\n",
        " \r\n",
        "\r\n",
        "*   We get the integer representation for each word.\r\n",
        "*   This includes Out of Vocabulary words such as names.\r\n",
        "*   Word index with key = word, value = integer generated.\r\n",
        "*   Reversed to use the integer as the key and identify.\r\n",
        "\r\n",
        "\r\n"
      ]
    },
    {
      "cell_type": "code",
      "metadata": {
        "colab": {
          "base_uri": "https://localhost:8080/"
        },
        "id": "m1N1GGh541Kj",
        "outputId": "6b053785-1f6b-4e63-887a-fb2a65139a71"
      },
      "source": [
        "tokenizer = Tokenizer(oov_token=\"OOV\")\r\n",
        "tokenizer.fit_on_texts(corpus)\r\n",
        "total_words = len(tokenizer.word_index) + 1\r\n",
        "reversedWI = {v: k for k, v in tokenizer.word_index.items()}\r\n",
        "print(\"Total words: \", total_words)"
      ],
      "execution_count": null,
      "outputs": [
        {
          "output_type": "stream",
          "text": [
            "Total words:  1900\n"
          ],
          "name": "stdout"
        }
      ]
    },
    {
      "cell_type": "markdown",
      "metadata": {
        "id": "O6H6Urab7NTj"
      },
      "source": [
        "# n-grams and Padding\r\n",
        "* Use the word index to get text to sequences.\r\n",
        "* Pad the sequences of different length\r\n"
      ]
    },
    {
      "cell_type": "code",
      "metadata": {
        "colab": {
          "base_uri": "https://localhost:8080/"
        },
        "id": "TorioMzT9a4Z",
        "outputId": "e2770d28-af2b-43d1-fb70-ee63ee743b0c"
      },
      "source": [
        "input_sequences = []\r\n",
        "for line in corpus:\r\n",
        "  token_list = tokenizer.texts_to_sequences([line])[0]\r\n",
        "  for i in range(1, len(token_list)):\r\n",
        "    n_gram_seq = token_list[:i+1]\r\n",
        "    input_sequences.append(n_gram_seq)\r\n",
        "\r\n",
        "print(\"Total seq: \", len(input_sequences)) "
      ],
      "execution_count": null,
      "outputs": [
        {
          "output_type": "stream",
          "text": [
            "Total seq:  23625\n"
          ],
          "name": "stdout"
        }
      ]
    },
    {
      "cell_type": "code",
      "metadata": {
        "colab": {
          "base_uri": "https://localhost:8080/"
        },
        "id": "-F1iwkhD_ESQ",
        "outputId": "49c5c3aa-e363-4c82-8693-1e90dc45e4aa"
      },
      "source": [
        "print(reversedWI[47], reversedWI[526], reversedWI[7], reversedWI[4], reversedWI[134], reversedWI[361]) "
      ],
      "execution_count": null,
      "outputs": [
        {
          "output_type": "stream",
          "text": [
            "now greetings to the world standing\n"
          ],
          "name": "stdout"
        }
      ]
    },
    {
      "cell_type": "code",
      "metadata": {
        "colab": {
          "base_uri": "https://localhost:8080/"
        },
        "id": "bdU4RJT_Bt5R",
        "outputId": "d3d0d080-708e-4a48-80d9-883b3f9ccb95"
      },
      "source": [
        "max_len =  max([len(i) for i in input_sequences])\r\n",
        "print(max_len)"
      ],
      "execution_count": null,
      "outputs": [
        {
          "output_type": "stream",
          "text": [
            "181\n"
          ],
          "name": "stdout"
        }
      ]
    },
    {
      "cell_type": "code",
      "metadata": {
        "colab": {
          "base_uri": "https://localhost:8080/"
        },
        "id": "qAQx3WkECGfo",
        "outputId": "a66c36a1-258c-48b4-ac55-309ecaaec9ba"
      },
      "source": [
        "input_sequences = np.array(pad_sequences(input_sequences, maxlen= max_len, padding= \"pre\"))\r\n",
        "print(input_sequences)"
      ],
      "execution_count": null,
      "outputs": [
        {
          "output_type": "stream",
          "text": [
            "[[  0   0   0 ...   0  47 526]\n",
            " [  0   0   0 ...  47 526   7]\n",
            " [  0   0   0 ... 526   7   4]\n",
            " ...\n",
            " [  0   0   0 ...   8   8   8]\n",
            " [  0   0   0 ...   8   8   8]\n",
            " [  0   0   0 ...   8   8   8]]\n"
          ],
          "name": "stdout"
        }
      ]
    },
    {
      "cell_type": "code",
      "metadata": {
        "colab": {
          "base_uri": "https://localhost:8080/",
          "height": 35
        },
        "id": "MABjvrWXDJEc",
        "outputId": "51a6962a-31b4-4fc0-9e03-b8f5eeb9e565"
      },
      "source": [
        "reversedWI[1]"
      ],
      "execution_count": null,
      "outputs": [
        {
          "output_type": "execute_result",
          "data": {
            "application/vnd.google.colaboratory.intrinsic+json": {
              "type": "string"
            },
            "text/plain": [
              "'OOV'"
            ]
          },
          "metadata": {
            "tags": []
          },
          "execution_count": 12
        }
      ]
    },
    {
      "cell_type": "markdown",
      "metadata": {
        "id": "Gf0m3SLADYte"
      },
      "source": [
        "# Splitting into predictors and labels\r\n",
        "*    Last column is the label.\r\n",
        "*    Pre padding done for labelling last.\r\n",
        "*    One-hot encoding with classes equal to total number of words."
      ]
    },
    {
      "cell_type": "code",
      "metadata": {
        "colab": {
          "base_uri": "https://localhost:8080/"
        },
        "id": "ReMurVItDO4w",
        "outputId": "242a9fcc-3aed-42fe-8860-dc6746c085f8"
      },
      "source": [
        "train_data, labels = input_sequences[:, :-1], input_sequences[:,-1]\r\n",
        "labels = ku.to_categorical(labels, num_classes = total_words)\r\n",
        "print(labels)\r\n",
        "#np.argmax(labels[0])"
      ],
      "execution_count": null,
      "outputs": [
        {
          "output_type": "stream",
          "text": [
            "[[0. 0. 0. ... 0. 0. 0.]\n",
            " [0. 0. 0. ... 0. 0. 0.]\n",
            " [0. 0. 0. ... 0. 0. 0.]\n",
            " ...\n",
            " [0. 0. 0. ... 0. 0. 0.]\n",
            " [0. 0. 0. ... 0. 0. 0.]\n",
            " [0. 0. 0. ... 0. 0. 0.]]\n"
          ],
          "name": "stdout"
        }
      ]
    },
    {
      "cell_type": "markdown",
      "metadata": {
        "id": "5O3E1WGyHQk9"
      },
      "source": [
        "# The Model\r\n"
      ]
    },
    {
      "cell_type": "code",
      "metadata": {
        "id": "4VUVWvZIH7W_"
      },
      "source": [
        "embeddingSize = 500\r\n",
        "nodes = 150"
      ],
      "execution_count": null,
      "outputs": []
    },
    {
      "cell_type": "code",
      "metadata": {
        "colab": {
          "base_uri": "https://localhost:8080/"
        },
        "id": "XOMBtTAGINrf",
        "outputId": "e469d552-6f24-406e-9dbb-f3f12fcb702a"
      },
      "source": [
        "model = Sequential()\r\n",
        "model.add(Embedding(total_words, embeddingSize, input_length = max_len - 1))\r\n",
        "model.add(Bidirectional(LSTM(nodes, return_sequences = True)))\r\n",
        "model.add(Bidirectional(LSTM(nodes, return_sequences = True)))\r\n",
        "model.add(Dropout(0.1))\r\n",
        "model.add(LSTM(nodes))\r\n",
        "model.add(Dense(total_words, activation = 'relu', kernel_regularizer = tf.keras.regularizers.l2(0.01)))\r\n",
        "model.add(Dense(total_words, activation = 'softmax'))\r\n",
        "model.compile(loss = 'categorical_crossentropy', optimizer = 'adam', metrics = ['accuracy'])\r\n",
        "print(model.summary())"
      ],
      "execution_count": null,
      "outputs": [
        {
          "output_type": "stream",
          "text": [
            "Model: \"sequential\"\n",
            "_________________________________________________________________\n",
            "Layer (type)                 Output Shape              Param #   \n",
            "=================================================================\n",
            "embedding (Embedding)        (None, 180, 500)          950000    \n",
            "_________________________________________________________________\n",
            "bidirectional (Bidirectional (None, 180, 300)          781200    \n",
            "_________________________________________________________________\n",
            "bidirectional_1 (Bidirection (None, 180, 300)          541200    \n",
            "_________________________________________________________________\n",
            "dropout (Dropout)            (None, 180, 300)          0         \n",
            "_________________________________________________________________\n",
            "lstm_2 (LSTM)                (None, 150)               270600    \n",
            "_________________________________________________________________\n",
            "dense (Dense)                (None, 1900)              286900    \n",
            "_________________________________________________________________\n",
            "dense_1 (Dense)              (None, 1900)              3611900   \n",
            "=================================================================\n",
            "Total params: 6,441,800\n",
            "Trainable params: 6,441,800\n",
            "Non-trainable params: 0\n",
            "_________________________________________________________________\n",
            "None\n"
          ],
          "name": "stdout"
        }
      ]
    },
    {
      "cell_type": "code",
      "metadata": {
        "id": "yPerUNzqMf-z",
        "colab": {
          "base_uri": "https://localhost:8080/"
        },
        "outputId": "02ba6d6f-0564-4512-907d-86116d8053c2"
      },
      "source": [
        "epochs= 100\r\n",
        "history = model.fit(train_data, labels, epochs = epochs, verbose=1)"
      ],
      "execution_count": null,
      "outputs": [
        {
          "output_type": "stream",
          "text": [
            "Epoch 1/100\n",
            "739/739 [==============================] - 61s 65ms/step - loss: 6.5726 - accuracy: 0.0333\n",
            "Epoch 2/100\n",
            "739/739 [==============================] - 49s 66ms/step - loss: 5.6687 - accuracy: 0.0425\n",
            "Epoch 3/100\n",
            "739/739 [==============================] - 49s 66ms/step - loss: 5.3964 - accuracy: 0.0648\n",
            "Epoch 4/100\n",
            "739/739 [==============================] - 49s 66ms/step - loss: 5.1525 - accuracy: 0.0793\n",
            "Epoch 5/100\n",
            "739/739 [==============================] - 49s 66ms/step - loss: 4.9801 - accuracy: 0.0928\n",
            "Epoch 6/100\n",
            "739/739 [==============================] - 49s 66ms/step - loss: 4.7869 - accuracy: 0.1149\n",
            "Epoch 7/100\n",
            "739/739 [==============================] - 49s 66ms/step - loss: 4.5720 - accuracy: 0.1526\n",
            "Epoch 8/100\n",
            "739/739 [==============================] - 48s 66ms/step - loss: 4.3358 - accuracy: 0.1858\n",
            "Epoch 9/100\n",
            "739/739 [==============================] - 49s 67ms/step - loss: 4.1037 - accuracy: 0.2190\n",
            "Epoch 10/100\n",
            "739/739 [==============================] - 49s 66ms/step - loss: 3.8933 - accuracy: 0.2517\n",
            "Epoch 11/100\n",
            "739/739 [==============================] - 49s 66ms/step - loss: 3.6506 - accuracy: 0.2978\n",
            "Epoch 12/100\n",
            "739/739 [==============================] - 49s 66ms/step - loss: 3.4448 - accuracy: 0.3375\n",
            "Epoch 13/100\n",
            "739/739 [==============================] - 49s 66ms/step - loss: 3.2444 - accuracy: 0.3715\n",
            "Epoch 14/100\n",
            "739/739 [==============================] - 48s 65ms/step - loss: 3.0681 - accuracy: 0.4046\n",
            "Epoch 15/100\n",
            "739/739 [==============================] - 48s 65ms/step - loss: 2.8680 - accuracy: 0.4398\n",
            "Epoch 16/100\n",
            "739/739 [==============================] - 48s 65ms/step - loss: 2.7182 - accuracy: 0.4690\n",
            "Epoch 17/100\n",
            "739/739 [==============================] - 48s 64ms/step - loss: 2.5094 - accuracy: 0.5126\n",
            "Epoch 18/100\n",
            "739/739 [==============================] - 48s 65ms/step - loss: 2.3727 - accuracy: 0.5390\n",
            "Epoch 19/100\n",
            "739/739 [==============================] - 48s 65ms/step - loss: 2.2126 - accuracy: 0.5709\n",
            "Epoch 20/100\n",
            "739/739 [==============================] - 48s 65ms/step - loss: 2.0832 - accuracy: 0.5959\n",
            "Epoch 21/100\n",
            "739/739 [==============================] - 49s 66ms/step - loss: 1.9829 - accuracy: 0.6147\n",
            "Epoch 22/100\n",
            "739/739 [==============================] - 49s 66ms/step - loss: 1.8908 - accuracy: 0.6320\n",
            "Epoch 23/100\n",
            "739/739 [==============================] - 49s 66ms/step - loss: 1.7783 - accuracy: 0.6586\n",
            "Epoch 24/100\n",
            "739/739 [==============================] - 48s 65ms/step - loss: 1.6743 - accuracy: 0.6833\n",
            "Epoch 25/100\n",
            "739/739 [==============================] - 48s 65ms/step - loss: 1.6094 - accuracy: 0.6938\n",
            "Epoch 26/100\n",
            "739/739 [==============================] - 48s 65ms/step - loss: 1.5026 - accuracy: 0.7163\n",
            "Epoch 27/100\n",
            "739/739 [==============================] - 48s 65ms/step - loss: 1.4319 - accuracy: 0.7366\n",
            "Epoch 28/100\n",
            "739/739 [==============================] - 48s 65ms/step - loss: 1.3810 - accuracy: 0.7446\n",
            "Epoch 29/100\n",
            "739/739 [==============================] - 48s 64ms/step - loss: 1.3279 - accuracy: 0.7534\n",
            "Epoch 30/100\n",
            "739/739 [==============================] - 47s 64ms/step - loss: 1.2739 - accuracy: 0.7657\n",
            "Epoch 31/100\n",
            "739/739 [==============================] - 48s 64ms/step - loss: 1.2289 - accuracy: 0.7693\n",
            "Epoch 32/100\n",
            "739/739 [==============================] - 47s 64ms/step - loss: 1.1681 - accuracy: 0.7891\n",
            "Epoch 33/100\n",
            "739/739 [==============================] - 47s 64ms/step - loss: 1.1422 - accuracy: 0.7928\n",
            "Epoch 34/100\n",
            "739/739 [==============================] - 47s 64ms/step - loss: 1.1313 - accuracy: 0.7969\n",
            "Epoch 35/100\n",
            "739/739 [==============================] - 48s 64ms/step - loss: 1.0676 - accuracy: 0.8042\n",
            "Epoch 36/100\n",
            "739/739 [==============================] - 47s 64ms/step - loss: 1.0459 - accuracy: 0.8088\n",
            "Epoch 37/100\n",
            "739/739 [==============================] - 47s 64ms/step - loss: 0.9791 - accuracy: 0.8219\n",
            "Epoch 38/100\n",
            "739/739 [==============================] - 47s 64ms/step - loss: 0.9830 - accuracy: 0.8216\n",
            "Epoch 39/100\n",
            "739/739 [==============================] - 47s 64ms/step - loss: 0.9432 - accuracy: 0.8280\n",
            "Epoch 40/100\n",
            "739/739 [==============================] - 48s 65ms/step - loss: 0.9332 - accuracy: 0.8291\n",
            "Epoch 41/100\n",
            "739/739 [==============================] - 48s 65ms/step - loss: 0.9003 - accuracy: 0.8360\n",
            "Epoch 42/100\n",
            "739/739 [==============================] - 48s 65ms/step - loss: 0.8825 - accuracy: 0.8400\n",
            "Epoch 43/100\n",
            "739/739 [==============================] - 48s 65ms/step - loss: 0.8661 - accuracy: 0.8409\n",
            "Epoch 44/100\n",
            "739/739 [==============================] - 48s 65ms/step - loss: 0.8528 - accuracy: 0.8447\n",
            "Epoch 45/100\n",
            "739/739 [==============================] - 47s 64ms/step - loss: 0.8382 - accuracy: 0.8475\n",
            "Epoch 46/100\n",
            "739/739 [==============================] - 47s 64ms/step - loss: 0.8606 - accuracy: 0.8372\n",
            "Epoch 47/100\n",
            "739/739 [==============================] - 47s 64ms/step - loss: 0.8096 - accuracy: 0.8523\n",
            "Epoch 48/100\n",
            "739/739 [==============================] - 47s 64ms/step - loss: 0.8067 - accuracy: 0.8474\n",
            "Epoch 49/100\n",
            "739/739 [==============================] - 47s 64ms/step - loss: 0.7753 - accuracy: 0.8585\n",
            "Epoch 50/100\n",
            "739/739 [==============================] - 47s 64ms/step - loss: 0.7551 - accuracy: 0.8595\n",
            "Epoch 51/100\n",
            "739/739 [==============================] - 47s 64ms/step - loss: 0.7741 - accuracy: 0.8557\n",
            "Epoch 52/100\n",
            "739/739 [==============================] - 47s 64ms/step - loss: 0.7578 - accuracy: 0.8566\n",
            "Epoch 53/100\n",
            "739/739 [==============================] - 47s 64ms/step - loss: 0.7396 - accuracy: 0.8598\n",
            "Epoch 54/100\n",
            "739/739 [==============================] - 48s 64ms/step - loss: 0.7684 - accuracy: 0.8520\n",
            "Epoch 55/100\n",
            "739/739 [==============================] - 47s 64ms/step - loss: 0.7256 - accuracy: 0.8632\n",
            "Epoch 56/100\n",
            "739/739 [==============================] - 47s 64ms/step - loss: 0.7145 - accuracy: 0.8611\n",
            "Epoch 57/100\n",
            "739/739 [==============================] - 47s 64ms/step - loss: 0.7137 - accuracy: 0.8636\n",
            "Epoch 58/100\n",
            "739/739 [==============================] - 47s 64ms/step - loss: 0.6985 - accuracy: 0.8655\n",
            "Epoch 59/100\n",
            "739/739 [==============================] - 47s 64ms/step - loss: 0.7035 - accuracy: 0.8575\n",
            "Epoch 60/100\n",
            "739/739 [==============================] - 48s 64ms/step - loss: 0.6708 - accuracy: 0.8704\n",
            "Epoch 61/100\n",
            "739/739 [==============================] - 48s 65ms/step - loss: 0.6994 - accuracy: 0.8616\n",
            "Epoch 62/100\n",
            "739/739 [==============================] - 48s 65ms/step - loss: 0.7144 - accuracy: 0.8584\n",
            "Epoch 63/100\n",
            "739/739 [==============================] - 48s 65ms/step - loss: 0.6727 - accuracy: 0.8654\n",
            "Epoch 64/100\n",
            "739/739 [==============================] - 48s 64ms/step - loss: 0.6714 - accuracy: 0.8655\n",
            "Epoch 65/100\n",
            "739/739 [==============================] - 48s 65ms/step - loss: 0.6886 - accuracy: 0.8607\n",
            "Epoch 66/100\n",
            "739/739 [==============================] - 48s 64ms/step - loss: 0.6699 - accuracy: 0.8626\n",
            "Epoch 67/100\n",
            "739/739 [==============================] - 48s 65ms/step - loss: 0.6568 - accuracy: 0.8679\n",
            "Epoch 68/100\n",
            "739/739 [==============================] - 48s 64ms/step - loss: 0.6660 - accuracy: 0.8631\n",
            "Epoch 69/100\n",
            "739/739 [==============================] - 47s 64ms/step - loss: 0.6566 - accuracy: 0.8641\n",
            "Epoch 70/100\n",
            "739/739 [==============================] - 47s 64ms/step - loss: 0.6649 - accuracy: 0.8635\n",
            "Epoch 71/100\n",
            "739/739 [==============================] - 47s 64ms/step - loss: 0.6467 - accuracy: 0.8653\n",
            "Epoch 72/100\n",
            "739/739 [==============================] - 47s 64ms/step - loss: 0.6371 - accuracy: 0.8701\n",
            "Epoch 73/100\n",
            "739/739 [==============================] - 47s 64ms/step - loss: 0.6396 - accuracy: 0.8682\n",
            "Epoch 74/100\n",
            "739/739 [==============================] - 47s 64ms/step - loss: 0.6563 - accuracy: 0.8632\n",
            "Epoch 75/100\n",
            "739/739 [==============================] - 47s 64ms/step - loss: 0.6266 - accuracy: 0.8690\n",
            "Epoch 76/100\n",
            "739/739 [==============================] - 47s 64ms/step - loss: 0.6174 - accuracy: 0.8715\n",
            "Epoch 77/100\n",
            "739/739 [==============================] - 47s 64ms/step - loss: 0.6415 - accuracy: 0.8675\n",
            "Epoch 78/100\n",
            "739/739 [==============================] - 47s 64ms/step - loss: 0.6217 - accuracy: 0.8695\n",
            "Epoch 79/100\n",
            "739/739 [==============================] - 48s 65ms/step - loss: 0.6226 - accuracy: 0.8689\n",
            "Epoch 80/100\n",
            "739/739 [==============================] - 48s 65ms/step - loss: 0.6263 - accuracy: 0.8696\n",
            "Epoch 81/100\n",
            "739/739 [==============================] - 48s 65ms/step - loss: 0.6275 - accuracy: 0.8671\n",
            "Epoch 82/100\n",
            "739/739 [==============================] - 47s 64ms/step - loss: 0.6112 - accuracy: 0.8714\n",
            "Epoch 83/100\n",
            "739/739 [==============================] - 47s 64ms/step - loss: 0.6066 - accuracy: 0.8699\n",
            "Epoch 84/100\n",
            "739/739 [==============================] - 48s 65ms/step - loss: 0.6003 - accuracy: 0.8713\n",
            "Epoch 85/100\n",
            "739/739 [==============================] - 48s 64ms/step - loss: 0.6099 - accuracy: 0.8698\n",
            "Epoch 86/100\n",
            "739/739 [==============================] - 48s 65ms/step - loss: 0.6190 - accuracy: 0.8673\n",
            "Epoch 87/100\n",
            "739/739 [==============================] - 48s 65ms/step - loss: 0.6128 - accuracy: 0.8701\n",
            "Epoch 88/100\n",
            "739/739 [==============================] - 48s 65ms/step - loss: 0.5928 - accuracy: 0.8732\n",
            "Epoch 89/100\n",
            "739/739 [==============================] - 48s 65ms/step - loss: 0.5969 - accuracy: 0.8719\n",
            "Epoch 90/100\n",
            "739/739 [==============================] - 48s 65ms/step - loss: 0.5931 - accuracy: 0.8721\n",
            "Epoch 91/100\n",
            "739/739 [==============================] - 48s 65ms/step - loss: 0.5866 - accuracy: 0.8705\n",
            "Epoch 92/100\n",
            "739/739 [==============================] - 48s 65ms/step - loss: 0.5892 - accuracy: 0.8727\n",
            "Epoch 93/100\n",
            "739/739 [==============================] - 48s 66ms/step - loss: 0.6040 - accuracy: 0.8672\n",
            "Epoch 94/100\n",
            "739/739 [==============================] - 48s 65ms/step - loss: 0.6055 - accuracy: 0.8710\n",
            "Epoch 95/100\n",
            "739/739 [==============================] - 48s 65ms/step - loss: 0.5786 - accuracy: 0.8741\n",
            "Epoch 96/100\n",
            "739/739 [==============================] - 48s 65ms/step - loss: 0.5777 - accuracy: 0.8733\n",
            "Epoch 97/100\n",
            "739/739 [==============================] - 48s 65ms/step - loss: 0.5843 - accuracy: 0.8731\n",
            "Epoch 98/100\n",
            "739/739 [==============================] - 48s 65ms/step - loss: 0.5833 - accuracy: 0.8733\n",
            "Epoch 99/100\n",
            "739/739 [==============================] - 49s 66ms/step - loss: 0.5900 - accuracy: 0.8690\n",
            "Epoch 100/100\n",
            "739/739 [==============================] - 49s 66ms/step - loss: 0.5905 - accuracy: 0.8711\n"
          ],
          "name": "stdout"
        }
      ]
    },
    {
      "cell_type": "code",
      "metadata": {
        "id": "wA98aVK8X9gi"
      },
      "source": [
        "path = \"/content/drive/My Drive/DL-NLP/\" \r\n",
        "model.save(path + \"Bruno_Mars_LSTM.h5\")\r\n",
        "#model = keras.models.load_model(path + \"Bruno_Mars_LSTM.h5\")"
      ],
      "execution_count": null,
      "outputs": []
    },
    {
      "cell_type": "code",
      "metadata": {
        "id": "QAERDub0M1gD",
        "colab": {
          "base_uri": "https://localhost:8080/",
          "height": 545
        },
        "outputId": "59ae3cee-a1f5-4700-8362-b5e10f7a8268"
      },
      "source": [
        "import matplotlib.pyplot as plt\r\n",
        "accuracy = history.history['accuracy']\r\n",
        "loss = history.history['loss']\r\n",
        "\r\n",
        "epochs = range(len(accuracy))\r\n",
        "\r\n",
        "plt.plot(epochs, accuracy, 'r', label='Training accuracy')\r\n",
        "plt.title('Training accuracy')\r\n",
        "\r\n",
        "plt.figure()\r\n",
        "\r\n",
        "plt.plot(epochs, loss, 'r', label='Training Loss')\r\n",
        "plt.title('Training loss')\r\n",
        "plt.legend()\r\n",
        "\r\n",
        "plt.show()"
      ],
      "execution_count": null,
      "outputs": [
        {
          "output_type": "display_data",
          "data": {
            "image/png": "[encoded data removed]",
            "text/plain": [
              "<Figure size 432x288 with 1 Axes>"
            ]
          },
          "metadata": {
            "tags": [],
            "needs_background": "light"
          }
        },
        {
          "output_type": "display_data",
          "data": {
            "image/png": "[encoded data removed]",
            "text/plain": [
              "<Figure size 432x288 with 1 Axes>"
            ]
          },
          "metadata": {
            "tags": [],
            "needs_background": "light"
          }
        }
      ]
    },
    {
      "cell_type": "markdown",
      "metadata": {
        "id": "FSDfUBb9kktL"
      },
      "source": [
        "# Generating new lyrics\r\n",
        "*   As we don't know where one song ends and another starts, it's hard to find the average number of lines in a song.\r\n",
        "*   We observe few songs and try to find the average number of words in all songs.\r\n",
        "*   After getting the sequence and padding the seed text, we get the predicted word.\r\n",
        "*   Then we find the word which is predicted using the word index."
      ]
    },
    {
      "cell_type": "code",
      "metadata": {
        "colab": {
          "base_uri": "https://localhost:8080/"
        },
        "id": "aiqmfULYkfdx",
        "outputId": "9cbd98aa-3368-4d57-8cbd-cc67fd8f080d"
      },
      "source": [
        "min_lines = 32\r\n",
        "\r\n",
        "allSongs = corpus\r\n",
        "wordsByLines = []\r\n",
        "for loop1 in range(len(allSongs)):\r\n",
        "  for loop2 in range(min_lines):\r\n",
        "    if (loop1 == 0):\r\n",
        "      wordsByLines.append(len([elem.strip() for elem in allSongs[loop2].split(\" \") if elem.strip()!=\"\"]))\r\n",
        "    else:\r\n",
        "      wordsByLines[loop2] = (wordsByLines[loop2]+len([elem.strip() for elem in allSongs[loop2].split(\" \") if elem.strip()!=\"\"]))/2\r\n",
        "wordsInTotal = int(sum(wordsByLines))\r\n",
        "print(\"Average number of words per song :\",wordsInTotal)"
      ],
      "execution_count": null,
      "outputs": [
        {
          "output_type": "stream",
          "text": [
            "Average number of words per song : 246\n"
          ],
          "name": "stdout"
        }
      ]
    },
    {
      "cell_type": "code",
      "metadata": {
        "colab": {
          "base_uri": "https://localhost:8080/"
        },
        "id": "v4E6wbcrkhpI",
        "outputId": "a36cabb7-7d44-4ba9-a04c-55f0bc98ef0c"
      },
      "source": [
        "print(wordsByLines)"
      ],
      "execution_count": null,
      "outputs": [
        {
          "output_type": "stream",
          "text": [
            "[10.0, 5.0, 7.0, 4.0, 7.0, 15.0, 8.0, 9.0, 15.0, 5.0, 4.0, 4.0, 5.0, 5.0, 4.0, 9.0, 5.0, 8.0, 8.0, 17.0, 8.0, 9.0, 15.0, 5.0, 4.0, 4.0, 5.0, 5.0, 4.0, 13.0, 8.0, 12.0]\n"
          ],
          "name": "stdout"
        }
      ]
    },
    {
      "cell_type": "code",
      "metadata": {
        "colab": {
          "base_uri": "https://localhost:8080/"
        },
        "id": "M6dba99NsyUS",
        "outputId": "d08b1f28-1c14-45af-eb6b-83019ecb7286"
      },
      "source": [
        "seed_text = \"You are\"\r\n",
        "num_words = 200\r\n",
        "\r\n",
        "for _ in range(num_words):\r\n",
        "  token_list = tokenizer.texts_to_sequences([seed_text])[0]\r\n",
        "  token_list = pad_sequences([token_list], maxlen=max_len-1, padding='pre')\r\n",
        "  predicted = model.predict_classes(token_list, verbose = 0)\r\n",
        "  output = \"\"\r\n",
        "  for word, index in tokenizer.word_index.items():\r\n",
        "    if index == predicted:\r\n",
        "      output = word\r\n",
        "      break\r\n",
        "  seed_text += \" \" + output\r\n",
        "\r\n",
        "print(seed_text)\r\n"
      ],
      "execution_count": null,
      "outputs": [
        {
          "output_type": "stream",
          "text": [
            "/usr/local/lib/python3.6/dist-packages/tensorflow/python/keras/engine/sequential.py:450: UserWarning: `model.predict_classes()` is deprecated and will be removed after 2021-01-01. Please use instead:* `np.argmax(model.predict(x), axis=-1)`,   if your model does multi-class classification   (e.g. if it uses a `softmax` last-layer activation).* `(model.predict(x) > 0.5).astype(\"int32\")`,   if your model does binary classification   (e.g. if it uses a `sigmoid` last-layer activation).\n",
            "  warnings.warn('`model.predict_classes()` is deprecated and '\n"
          ],
          "name": "stderr"
        },
        {
          "output_type": "stream",
          "text": [
            "You are my treasure yeah you you you you are treasure that is what you are ooh ooh ooh you are i lose i know wrong i come here with me all ya'self into my pocket full of cream comes own night seems if i see you into the same start along they said it feels when we grind gonna wait to look good wait all you ain't was someday this little chapel on the sea boy that we out home silky smooth and they picture all me going crazy ooo my baby she got me oh no she locked me in prison like a criminal damn alone in my penthouse bag every morning i must perfect wait in you gone the first wish we do or all this little breath seems might pretend we are here we are in this big old empty room room big old empty room big old empty room drinks on your attitude dame puedo minutos steer me wrong damn hands on it all named natalie she ran away with all my money ooh don't get up or does this little chapel on the crowd activate it was soon soon spiritual named i would go through all\n"
          ],
          "name": "stdout"
        }
      ]
    },
    {
      "cell_type": "code",
      "metadata": {
        "colab": {
          "base_uri": "https://localhost:8080/"
        },
        "id": "uNX9WPl1wtps",
        "outputId": "ede97a72-f9ea-42fd-8a65-2c88785fff04"
      },
      "source": [
        "newLyrics = [elem for elem in seed_text.split(\" \")]\r\n",
        "print(newLyrics)"
      ],
      "execution_count": null,
      "outputs": [
        {
          "output_type": "stream",
          "text": [
            "['You', 'are', 'my', 'treasure', 'yeah', 'you', 'you', 'you', 'you', 'are', 'treasure', 'that', 'is', 'what', 'you', 'are', 'ooh', 'ooh', 'ooh', 'you', 'are', 'i', 'lose', 'i', 'know', 'wrong', 'i', 'come', 'here', 'with', 'me', 'all', \"ya'self\", 'into', 'my', 'pocket', 'full', 'of', 'cream', 'comes', 'own', 'night', 'seems', 'if', 'i', 'see', 'you', 'into', 'the', 'same', 'start', 'along', 'they', 'said', 'it', 'feels', 'when', 'we', 'grind', 'gonna', 'wait', 'to', 'look', 'good', 'wait', 'all', 'you', \"ain't\", 'was', 'someday', 'this', 'little', 'chapel', 'on', 'the', 'sea', 'boy', 'that', 'we', 'out', 'home', 'silky', 'smooth', 'and', 'they', 'picture', 'all', 'me', 'going', 'crazy', 'ooo', 'my', 'baby', 'she', 'got', 'me', 'oh', 'no', 'she', 'locked', 'me', 'in', 'prison', 'like', 'a', 'criminal', 'damn', 'alone', 'in', 'my', 'penthouse', 'bag', 'every', 'morning', 'i', 'must', 'perfect', 'wait', 'in', 'you', 'gone', 'the', 'first', 'wish', 'we', 'do', 'or', 'all', 'this', 'little', 'breath', 'seems', 'might', 'pretend', 'we', 'are', 'here', 'we', 'are', 'in', 'this', 'big', 'old', 'empty', 'room', 'room', 'big', 'old', 'empty', 'room', 'big', 'old', 'empty', 'room', 'drinks', 'on', 'your', 'attitude', 'dame', 'puedo', 'minutos', 'steer', 'me', 'wrong', 'damn', 'hands', 'on', 'it', 'all', 'named', 'natalie', 'she', 'ran', 'away', 'with', 'all', 'my', 'money', 'ooh', \"don't\", 'get', 'up', 'or', 'does', 'this', 'little', 'chapel', 'on', 'the', 'crowd', 'activate', 'it', 'was', 'soon', 'soon', 'spiritual', 'named', 'i', 'would', 'go', 'through', 'all']\n"
          ],
          "name": "stdout"
        }
      ]
    },
    {
      "cell_type": "code",
      "metadata": {
        "colab": {
          "base_uri": "https://localhost:8080/"
        },
        "id": "WVxeSjfSxRUy",
        "outputId": "4f81c442-13a6-4062-840e-d62c2d8771a9"
      },
      "source": [
        "wordsByLines = [int(elem) for elem in wordsByLines]\r\n",
        "stringLyrics = \"\"\r\n",
        "startPos = 0\r\n",
        "endPos = 0\r\n",
        "for loop in range(len(wordsByLines)):\r\n",
        "  endPos = endPos + wordsByLines[loop]\r\n",
        "  tempLine = ' '.join(elem for elem in newLyrics[startPos:endPos])\r\n",
        "  stringLyrics = stringLyrics + '\\n' + tempLine\r\n",
        "  startPos = endPos\r\n",
        "\r\n",
        "print(stringLyrics)"
      ],
      "execution_count": null,
      "outputs": [
        {
          "output_type": "stream",
          "text": [
            "\n",
            "You are my treasure yeah you you you you are\n",
            "treasure that is what you\n",
            "are ooh ooh ooh you are i\n",
            "lose i know wrong\n",
            "i come here with me all ya'self\n",
            "into my pocket full of cream comes own night seems if i see you into\n",
            "the same start along they said it feels\n",
            "when we grind gonna wait to look good wait\n",
            "all you ain't was someday this little chapel on the sea boy that we out\n",
            "home silky smooth and they\n",
            "picture all me going\n",
            "crazy ooo my baby\n",
            "she got me oh no\n",
            "she locked me in prison\n",
            "like a criminal damn\n",
            "alone in my penthouse bag every morning i must\n",
            "perfect wait in you gone\n",
            "the first wish we do or all this\n",
            "little breath seems might pretend we are here\n",
            "we are in this big old empty room room big old empty room big old empty room\n",
            "drinks on your attitude dame puedo minutos steer\n",
            "me wrong damn hands on it all named natalie\n",
            "she ran away with all my money ooh don't get up or does this little\n",
            "chapel on the crowd activate\n",
            "it was soon soon\n",
            "spiritual named i would\n",
            "go through all\n",
            "\n",
            "\n",
            "\n",
            "\n",
            "\n"
          ],
          "name": "stdout"
        }
      ]
    },
    {
      "cell_type": "code",
      "metadata": {
        "id": "9molbx59xXve"
      },
      "source": [
        "saveLyrics = open(\"/content/drive/My Drive/DL-NLP/Generated/Bruno_Mars_LSTM.txt\", \"wt\")\r\n",
        "saveLyrics.write(stringLyrics)\r\n",
        "saveLyrics.close()"
      ],
      "execution_count": null,
      "outputs": []
    }
  ]
}